{
  "cells": [
    {
      "cell_type": "markdown",
      "metadata": {
        "id": "view-in-github",
        "colab_type": "text"
      },
      "source": [
        "<a href=\"https://colab.research.google.com/github/panda3099/QCES/blob/main/Copy_of_Project1_dedalus.ipynb\" target=\"_parent\"><img src=\"https://colab.research.google.com/assets/colab-badge.svg\" alt=\"Open In Colab\"/></a>"
      ]
    },
    {
      "cell_type": "markdown",
      "metadata": {
        "id": "Kvi1witj5wON"
      },
      "source": [
        "<a href=\"https://colab.research.google.com/github/johnryantaylor/QCES/blob/main/Project1_dedalus.ipynb\" target=\"_parent\"><img src=\"https://colab.research.google.com/assets/colab-badge.svg\" alt=\"Open In Colab\"/></a>"
      ]
    },
    {
      "cell_type": "markdown",
      "metadata": {
        "id": "-YM8FwOtN4ZK"
      },
      "source": [
        "# Solving the diffusion equation with Dedalus"
      ]
    },
    {
      "cell_type": "markdown",
      "metadata": {
        "id": "-bcBPs25cfsr"
      },
      "source": [
        "**Overview:** This notebook solves the diffusion equation using a spectral method and provides an introduction to Dedalus.\n",
        "\n",
        "**About Dedalus:** [Dedalus](http://dedalus-project.org) is an open-source Python package for solving partial differential equations (PDEs) using spectral methods.\n",
        "These methods provide highly accurate numerical solutions for PDEs with smooth solutions in simple domains like boxes and spheres.\n",
        "Dedalus implements modern parallel algorithms utilizing sparse polynomial bases, but all with an easy-to-use symbolic interface.\n",
        "The code is being used in a wide range of fields, often for problems involving fluid dynamics.\n",
        "\n",
        "This script is based in part on the Introduction to Dedalus by [Keaton Burns](http://keaton-burns.com)\n",
        "\n",
        "The student exercise starts in [Section 5](#student_investigation)"
      ]
    },
    {
      "cell_type": "markdown",
      "metadata": {
        "id": "G6iwTnxLvvOc"
      },
      "source": [
        "# 1. Setup"
      ]
    },
    {
      "cell_type": "markdown",
      "metadata": {
        "id": "zPMGZvFjcfss"
      },
      "source": [
        "First, we need to install Dedalus.  If you are running Python on your local computer, follow the install instructions in the [Dedalus Docs](https://dedalus-project.readthedocs.io/en/latest/pages/installation.html) to install Dedalus locally on your computer.\n",
        "\n",
        "The cell below checks to see if Dedalus is installed.  After installing Dedalus, run the cell below to verify that Dedalus is installed correctly.\n",
        "\n",
        "If you are using Google Colab, the cell below will automatically install Dedalus.\n",
        "\n",
        "This cell checks if Dedalus is installed and performs some other basic setup. This will take some time the first time you run it.\n",
        "\n",
        "Once you have Dedalus installed, you won't need to run this cell again."
      ]
    },
    {
      "cell_type": "code",
      "execution_count": 2,
      "metadata": {
        "id": "wBSpwa8Ts65w",
        "outputId": "5168bb25-a803-4be0-c9c9-19ab326ba547",
        "colab": {
          "base_uri": "https://localhost:8080/"
        }
      },
      "outputs": [
        {
          "output_type": "stream",
          "name": "stdout",
          "text": [
            "env: OMP_NUM_THREADS=1\n",
            "env: NUMEXPR_MAX_THREADS=1\n",
            "Dedalus not installed yet.\n",
            "Installing for Google Colab.\n",
            "\n",
            "Reading package lists... Done\n",
            "Building dependency tree... Done\n",
            "Reading state information... Done\n",
            "The following additional packages will be installed:\n",
            "  libfftw3-bin libfftw3-double3 libfftw3-long3 libfftw3-quad3 libfftw3-single3\n",
            "Suggested packages:\n",
            "  libfftw3-doc\n",
            "The following NEW packages will be installed:\n",
            "  libfftw3-bin libfftw3-dev libfftw3-double3 libfftw3-long3 libfftw3-quad3 libfftw3-single3\n",
            "0 upgraded, 6 newly installed, 0 to remove and 49 not upgraded.\n",
            "Need to get 4,654 kB of archives.\n",
            "After this operation, 24.7 MB of additional disk space will be used.\n",
            "Get:1 http://archive.ubuntu.com/ubuntu jammy/main amd64 libfftw3-double3 amd64 3.3.8-2ubuntu8 [770 kB]\n",
            "Get:2 http://archive.ubuntu.com/ubuntu jammy/main amd64 libfftw3-long3 amd64 3.3.8-2ubuntu8 [335 kB]\n",
            "Get:3 http://archive.ubuntu.com/ubuntu jammy/main amd64 libfftw3-quad3 amd64 3.3.8-2ubuntu8 [614 kB]\n",
            "Get:4 http://archive.ubuntu.com/ubuntu jammy/main amd64 libfftw3-single3 amd64 3.3.8-2ubuntu8 [800 kB]\n",
            "Get:5 http://archive.ubuntu.com/ubuntu jammy/main amd64 libfftw3-bin amd64 3.3.8-2ubuntu8 [35.5 kB]\n",
            "Get:6 http://archive.ubuntu.com/ubuntu jammy/main amd64 libfftw3-dev amd64 3.3.8-2ubuntu8 [2,101 kB]\n",
            "Fetched 4,654 kB in 0s (13.9 MB/s)\n",
            "Selecting previously unselected package libfftw3-double3:amd64.\n",
            "(Reading database ... 123629 files and directories currently installed.)\n",
            "Preparing to unpack .../0-libfftw3-double3_3.3.8-2ubuntu8_amd64.deb ...\n",
            "Unpacking libfftw3-double3:amd64 (3.3.8-2ubuntu8) ...\n",
            "Selecting previously unselected package libfftw3-long3:amd64.\n",
            "Preparing to unpack .../1-libfftw3-long3_3.3.8-2ubuntu8_amd64.deb ...\n",
            "Unpacking libfftw3-long3:amd64 (3.3.8-2ubuntu8) ...\n",
            "Selecting previously unselected package libfftw3-quad3:amd64.\n",
            "Preparing to unpack .../2-libfftw3-quad3_3.3.8-2ubuntu8_amd64.deb ...\n",
            "Unpacking libfftw3-quad3:amd64 (3.3.8-2ubuntu8) ...\n",
            "Selecting previously unselected package libfftw3-single3:amd64.\n",
            "Preparing to unpack .../3-libfftw3-single3_3.3.8-2ubuntu8_amd64.deb ...\n",
            "Unpacking libfftw3-single3:amd64 (3.3.8-2ubuntu8) ...\n",
            "Selecting previously unselected package libfftw3-bin.\n",
            "Preparing to unpack .../4-libfftw3-bin_3.3.8-2ubuntu8_amd64.deb ...\n",
            "Unpacking libfftw3-bin (3.3.8-2ubuntu8) ...\n",
            "Selecting previously unselected package libfftw3-dev:amd64.\n",
            "Preparing to unpack .../5-libfftw3-dev_3.3.8-2ubuntu8_amd64.deb ...\n",
            "Unpacking libfftw3-dev:amd64 (3.3.8-2ubuntu8) ...\n",
            "Setting up libfftw3-single3:amd64 (3.3.8-2ubuntu8) ...\n",
            "Setting up libfftw3-long3:amd64 (3.3.8-2ubuntu8) ...\n",
            "Setting up libfftw3-quad3:amd64 (3.3.8-2ubuntu8) ...\n",
            "Setting up libfftw3-double3:amd64 (3.3.8-2ubuntu8) ...\n",
            "Setting up libfftw3-bin (3.3.8-2ubuntu8) ...\n",
            "Setting up libfftw3-dev:amd64 (3.3.8-2ubuntu8) ...\n",
            "Processing triggers for man-db (2.10.2-1) ...\n",
            "Processing triggers for libc-bin (2.35-0ubuntu3.4) ...\n",
            "/sbin/ldconfig.real: /usr/local/lib/libtbbbind.so.3 is not a symbolic link\n",
            "\n",
            "/sbin/ldconfig.real: /usr/local/lib/libtbb.so.12 is not a symbolic link\n",
            "\n",
            "/sbin/ldconfig.real: /usr/local/lib/libtbbmalloc_proxy.so.2 is not a symbolic link\n",
            "\n",
            "/sbin/ldconfig.real: /usr/local/lib/libtbbbind_2_0.so.3 is not a symbolic link\n",
            "\n",
            "/sbin/ldconfig.real: /usr/local/lib/libur_adapter_opencl.so.0 is not a symbolic link\n",
            "\n",
            "/sbin/ldconfig.real: /usr/local/lib/libur_adapter_level_zero.so.0 is not a symbolic link\n",
            "\n",
            "/sbin/ldconfig.real: /usr/local/lib/libtbbbind_2_5.so.3 is not a symbolic link\n",
            "\n",
            "/sbin/ldconfig.real: /usr/local/lib/libur_loader.so.0 is not a symbolic link\n",
            "\n",
            "/sbin/ldconfig.real: /usr/local/lib/libtbbmalloc.so.2 is not a symbolic link\n",
            "\n",
            "Reading package lists... Done\n",
            "Building dependency tree... Done\n",
            "Reading state information... Done\n",
            "The following additional packages will be installed:\n",
            "  libfftw3-mpi3\n",
            "Suggested packages:\n",
            "  libfftw3-doc\n",
            "The following NEW packages will be installed:\n",
            "  libfftw3-mpi-dev libfftw3-mpi3\n",
            "0 upgraded, 2 newly installed, 0 to remove and 49 not upgraded.\n",
            "Need to get 102 kB of archives.\n",
            "After this operation, 1,052 kB of additional disk space will be used.\n",
            "Get:1 http://archive.ubuntu.com/ubuntu jammy/universe amd64 libfftw3-mpi3 amd64 3.3.8-2ubuntu8 [48.9 kB]\n",
            "Get:2 http://archive.ubuntu.com/ubuntu jammy/universe amd64 libfftw3-mpi-dev amd64 3.3.8-2ubuntu8 [53.3 kB]\n",
            "Fetched 102 kB in 0s (625 kB/s)\n",
            "Selecting previously unselected package libfftw3-mpi3:amd64.\n",
            "(Reading database ... 123732 files and directories currently installed.)\n",
            "Preparing to unpack .../libfftw3-mpi3_3.3.8-2ubuntu8_amd64.deb ...\n",
            "Unpacking libfftw3-mpi3:amd64 (3.3.8-2ubuntu8) ...\n",
            "Selecting previously unselected package libfftw3-mpi-dev:amd64.\n",
            "Preparing to unpack .../libfftw3-mpi-dev_3.3.8-2ubuntu8_amd64.deb ...\n",
            "Unpacking libfftw3-mpi-dev:amd64 (3.3.8-2ubuntu8) ...\n",
            "Setting up libfftw3-mpi3:amd64 (3.3.8-2ubuntu8) ...\n",
            "Setting up libfftw3-mpi-dev:amd64 (3.3.8-2ubuntu8) ...\n",
            "Processing triggers for libc-bin (2.35-0ubuntu3.4) ...\n",
            "/sbin/ldconfig.real: /usr/local/lib/libtbbbind.so.3 is not a symbolic link\n",
            "\n",
            "/sbin/ldconfig.real: /usr/local/lib/libtbb.so.12 is not a symbolic link\n",
            "\n",
            "/sbin/ldconfig.real: /usr/local/lib/libtbbmalloc_proxy.so.2 is not a symbolic link\n",
            "\n",
            "/sbin/ldconfig.real: /usr/local/lib/libtbbbind_2_0.so.3 is not a symbolic link\n",
            "\n",
            "/sbin/ldconfig.real: /usr/local/lib/libur_adapter_opencl.so.0 is not a symbolic link\n",
            "\n",
            "/sbin/ldconfig.real: /usr/local/lib/libur_adapter_level_zero.so.0 is not a symbolic link\n",
            "\n",
            "/sbin/ldconfig.real: /usr/local/lib/libtbbbind_2_5.so.3 is not a symbolic link\n",
            "\n",
            "/sbin/ldconfig.real: /usr/local/lib/libur_loader.so.0 is not a symbolic link\n",
            "\n",
            "/sbin/ldconfig.real: /usr/local/lib/libtbbmalloc.so.2 is not a symbolic link\n",
            "\n",
            "Requirement already satisfied: cython in /usr/local/lib/python3.10/dist-packages (3.0.11)\n",
            "Collecting mpi4py<4.0\n",
            "  Downloading mpi4py-3.1.6.tar.gz (2.4 MB)\n",
            "\u001b[2K     \u001b[90m━━━━━━━━━━━━━━━━━━━━━━━━━━━━━━━━━━━━━━━━\u001b[0m \u001b[32m2.4/2.4 MB\u001b[0m \u001b[31m22.9 MB/s\u001b[0m eta \u001b[36m0:00:00\u001b[0m\n",
            "\u001b[?25h  Installing build dependencies ... \u001b[?25l\u001b[?25hdone\n",
            "  Getting requirements to build wheel ... \u001b[?25l\u001b[?25hdone\n",
            "  Preparing metadata (pyproject.toml) ... \u001b[?25l\u001b[?25hdone\n",
            "Requirement already satisfied: numpy in /usr/local/lib/python3.10/dist-packages (1.26.4)\n",
            "Requirement already satisfied: setuptools in /usr/local/lib/python3.10/dist-packages (71.0.4)\n",
            "Requirement already satisfied: wheel in /usr/local/lib/python3.10/dist-packages (0.44.0)\n",
            "Building wheels for collected packages: mpi4py\n",
            "  Building wheel for mpi4py (pyproject.toml) ... \u001b[?25l\u001b[?25hdone\n",
            "  Created wheel for mpi4py: filename=mpi4py-3.1.6-cp310-cp310-linux_x86_64.whl size=2746310 sha256=09d0ef5e3ebeb1f98f99ea0429b4c026518eebcc122f9cd6d39e7abfe3d04a2b\n",
            "  Stored in directory: /root/.cache/pip/wheels/4c/ca/89/8fc1fb1c620afca13bb41c630b1f948bbf446e0aaa4b762e10\n",
            "Successfully built mpi4py\n",
            "Installing collected packages: mpi4py\n",
            "Successfully installed mpi4py-3.1.6\n",
            "Collecting http://github.com/dedalusproject/dedalus/zipball/master/\n",
            "  Downloading http://github.com/dedalusproject/dedalus/zipball/master/\n",
            "\u001b[2K     \u001b[32m|\u001b[0m \u001b[32m24.5 MB\u001b[0m \u001b[31m24.3 MB/s\u001b[0m \u001b[33m0:00:00\u001b[0m\n",
            "\u001b[?25h  Preparing metadata (pyproject.toml) ... \u001b[?25l\u001b[?25hdone\n",
            "Collecting docopt (from dedalus==3.0.3)\n",
            "  Downloading docopt-0.6.2.tar.gz (25 kB)\n",
            "  Preparing metadata (setup.py) ... \u001b[?25l\u001b[?25hdone\n",
            "Requirement already satisfied: h5py>=3.0.0 in /usr/local/lib/python3.10/dist-packages (from dedalus==3.0.3) (3.11.0)\n",
            "Requirement already satisfied: matplotlib in /usr/local/lib/python3.10/dist-packages (from dedalus==3.0.3) (3.7.1)\n",
            "Requirement already satisfied: mpi4py>=2.0.0 in /usr/local/lib/python3.10/dist-packages (from dedalus==3.0.3) (3.1.6)\n",
            "Requirement already satisfied: numexpr in /usr/local/lib/python3.10/dist-packages (from dedalus==3.0.3) (2.10.1)\n",
            "Requirement already satisfied: numpy>=1.20.0 in /usr/local/lib/python3.10/dist-packages (from dedalus==3.0.3) (1.26.4)\n",
            "Collecting py (from dedalus==3.0.3)\n",
            "  Downloading py-1.11.0-py2.py3-none-any.whl.metadata (2.8 kB)\n",
            "Requirement already satisfied: pytest in /usr/local/lib/python3.10/dist-packages (from dedalus==3.0.3) (7.4.4)\n",
            "Collecting pytest-benchmark (from dedalus==3.0.3)\n",
            "  Downloading pytest_benchmark-4.0.0-py3-none-any.whl.metadata (23 kB)\n",
            "Collecting pytest-cov (from dedalus==3.0.3)\n",
            "  Downloading pytest_cov-5.0.0-py3-none-any.whl.metadata (27 kB)\n",
            "Collecting pytest-parallel (from dedalus==3.0.3)\n",
            "  Downloading pytest_parallel-0.1.1-py3-none-any.whl.metadata (3.0 kB)\n",
            "Requirement already satisfied: scipy>=1.4.0 in /usr/local/lib/python3.10/dist-packages (from dedalus==3.0.3) (1.13.1)\n",
            "Requirement already satisfied: xarray in /usr/local/lib/python3.10/dist-packages (from dedalus==3.0.3) (2024.9.0)\n",
            "Requirement already satisfied: contourpy>=1.0.1 in /usr/local/lib/python3.10/dist-packages (from matplotlib->dedalus==3.0.3) (1.3.0)\n",
            "Requirement already satisfied: cycler>=0.10 in /usr/local/lib/python3.10/dist-packages (from matplotlib->dedalus==3.0.3) (0.12.1)\n",
            "Requirement already satisfied: fonttools>=4.22.0 in /usr/local/lib/python3.10/dist-packages (from matplotlib->dedalus==3.0.3) (4.54.1)\n",
            "Requirement already satisfied: kiwisolver>=1.0.1 in /usr/local/lib/python3.10/dist-packages (from matplotlib->dedalus==3.0.3) (1.4.7)\n",
            "Requirement already satisfied: packaging>=20.0 in /usr/local/lib/python3.10/dist-packages (from matplotlib->dedalus==3.0.3) (24.1)\n",
            "Requirement already satisfied: pillow>=6.2.0 in /usr/local/lib/python3.10/dist-packages (from matplotlib->dedalus==3.0.3) (10.4.0)\n",
            "Requirement already satisfied: pyparsing>=2.3.1 in /usr/local/lib/python3.10/dist-packages (from matplotlib->dedalus==3.0.3) (3.1.4)\n",
            "Requirement already satisfied: python-dateutil>=2.7 in /usr/local/lib/python3.10/dist-packages (from matplotlib->dedalus==3.0.3) (2.8.2)\n",
            "Requirement already satisfied: iniconfig in /usr/local/lib/python3.10/dist-packages (from pytest->dedalus==3.0.3) (2.0.0)\n",
            "Requirement already satisfied: pluggy<2.0,>=0.12 in /usr/local/lib/python3.10/dist-packages (from pytest->dedalus==3.0.3) (1.5.0)\n",
            "Requirement already satisfied: exceptiongroup>=1.0.0rc8 in /usr/local/lib/python3.10/dist-packages (from pytest->dedalus==3.0.3) (1.2.2)\n",
            "Requirement already satisfied: tomli>=1.0.0 in /usr/local/lib/python3.10/dist-packages (from pytest->dedalus==3.0.3) (2.0.2)\n",
            "Requirement already satisfied: py-cpuinfo in /usr/local/lib/python3.10/dist-packages (from pytest-benchmark->dedalus==3.0.3) (9.0.0)\n",
            "Collecting coverage>=5.2.1 (from coverage[toml]>=5.2.1->pytest-cov->dedalus==3.0.3)\n",
            "  Downloading coverage-7.6.3-cp310-cp310-manylinux_2_5_x86_64.manylinux1_x86_64.manylinux_2_17_x86_64.manylinux2014_x86_64.whl.metadata (8.1 kB)\n",
            "Requirement already satisfied: tblib in /usr/local/lib/python3.10/dist-packages (from pytest-parallel->dedalus==3.0.3) (3.0.0)\n",
            "Requirement already satisfied: pandas>=2.1 in /usr/local/lib/python3.10/dist-packages (from xarray->dedalus==3.0.3) (2.2.2)\n",
            "Requirement already satisfied: pytz>=2020.1 in /usr/local/lib/python3.10/dist-packages (from pandas>=2.1->xarray->dedalus==3.0.3) (2024.2)\n",
            "Requirement already satisfied: tzdata>=2022.7 in /usr/local/lib/python3.10/dist-packages (from pandas>=2.1->xarray->dedalus==3.0.3) (2024.2)\n",
            "Requirement already satisfied: six>=1.5 in /usr/local/lib/python3.10/dist-packages (from python-dateutil>=2.7->matplotlib->dedalus==3.0.3) (1.16.0)\n",
            "Downloading py-1.11.0-py2.py3-none-any.whl (98 kB)\n",
            "\u001b[2K   \u001b[90m━━━━━━━━━━━━━━━━━━━━━━━━━━━━━━━━━━━━━━━━\u001b[0m \u001b[32m98.7/98.7 kB\u001b[0m \u001b[31m7.3 MB/s\u001b[0m eta \u001b[36m0:00:00\u001b[0m\n",
            "\u001b[?25hDownloading pytest_benchmark-4.0.0-py3-none-any.whl (43 kB)\n",
            "\u001b[2K   \u001b[90m━━━━━━━━━━━━━━━━━━━━━━━━━━━━━━━━━━━━━━━━\u001b[0m \u001b[32m44.0/44.0 kB\u001b[0m \u001b[31m138.2 MB/s\u001b[0m eta \u001b[36m0:00:00\u001b[0m\n",
            "\u001b[?25hDownloading pytest_cov-5.0.0-py3-none-any.whl (21 kB)\n",
            "Downloading pytest_parallel-0.1.1-py3-none-any.whl (7.0 kB)\n",
            "Downloading coverage-7.6.3-cp310-cp310-manylinux_2_5_x86_64.manylinux1_x86_64.manylinux_2_17_x86_64.manylinux2014_x86_64.whl (234 kB)\n",
            "\u001b[2K   \u001b[90m━━━━━━━━━━━━━━━━━━━━━━━━━━━━━━━━━━━━━━━━\u001b[0m \u001b[32m234.5/234.5 kB\u001b[0m \u001b[31m39.6 MB/s\u001b[0m eta \u001b[36m0:00:00\u001b[0m\n",
            "\u001b[?25hBuilding wheels for collected packages: dedalus, docopt\n",
            "  Building wheel for dedalus (pyproject.toml) ... \u001b[?25l\u001b[?25hdone\n",
            "  Created wheel for dedalus: filename=dedalus-3.0.3-cp310-cp310-linux_x86_64.whl size=3261135 sha256=6e9841073f3d9e1ad2ac58cbe6c8f79ab15d5e849a6fbc57420609e8964419f7\n",
            "  Stored in directory: /tmp/pip-ephem-wheel-cache-8vsximpm/wheels/2c/16/80/8c5f40fc4de8dc37ba4cdd4e05d7639677a5f0659c3bbd79a7\n",
            "  Building wheel for docopt (setup.py) ... \u001b[?25l\u001b[?25hdone\n",
            "  Created wheel for docopt: filename=docopt-0.6.2-py2.py3-none-any.whl size=13704 sha256=768826a2d823516edbf799ebd3cd18a78c4eb6c0521d0f347dfa052a6207bf0b\n",
            "  Stored in directory: /tmp/pip-ephem-wheel-cache-8vsximpm/wheels/fc/ab/d4/5da2067ac95b36618c629a5f93f809425700506f72c9732fac\n",
            "Successfully built dedalus docopt\n",
            "Installing collected packages: docopt, py, coverage, pytest-parallel, pytest-benchmark, pytest-cov, dedalus\n",
            "Successfully installed coverage-7.6.3 dedalus-3.0.3 docopt-0.6.2 py-1.11.0 pytest-benchmark-4.0.0 pytest-cov-5.0.0 pytest-parallel-0.1.1\n",
            "\u001b[2K   \u001b[90m━━━━━━━━━━━━━━━━━━━━━━━━━━━━━━━━━━━━━━━━\u001b[0m \u001b[32m516.3/516.3 kB\u001b[0m \u001b[31m9.6 MB/s\u001b[0m eta \u001b[36m0:00:00\u001b[0m\n",
            "\u001b[2K   \u001b[90m━━━━━━━━━━━━━━━━━━━━━━━━━━━━━━━━━━━━━━━━\u001b[0m \u001b[32m1.6/1.6 MB\u001b[0m \u001b[31m43.1 MB/s\u001b[0m eta \u001b[36m0:00:00\u001b[0m\n",
            "\u001b[?25h\n",
            "Dedalus successfully installed :)\n"
          ]
        }
      ],
      "source": [
        "# Set environment variables for best performance\n",
        "%env OMP_NUM_THREADS=1\n",
        "%env NUMEXPR_MAX_THREADS=1\n",
        "\n",
        "# Minimize logging output\n",
        "import logging\n",
        "logging.disable(logging.DEBUG)\n",
        "\n",
        "# Check if running on google colab\n",
        "import os\n",
        "using_google_colab = bool(os.getenv(\"COLAB_RELEASE_TAG\"))\n",
        "\n",
        "# Check for Dedalus\n",
        "try:\n",
        "    import dedalus.public as de\n",
        "    print(\"Dedalus already installed :)\")\n",
        "except:\n",
        "    print(\"Dedalus not installed yet.\")\n",
        "    if using_google_colab:\n",
        "        print(\"Installing for Google Colab.\")\n",
        "        print()\n",
        "        # Step 1: Install FFTW\n",
        "        !apt-get install libfftw3-dev\n",
        "        !apt-get install libfftw3-mpi-dev\n",
        "        # Step 2: Set paths for Dedalus installation\n",
        "        import os\n",
        "        os.environ['MPI_INCLUDE_PATH'] = \"/usr/lib/x86_64-linux-gnu/openmpi/include\"\n",
        "        os.environ['MPI_LIBRARY_PATH'] = \"/usr/lib/x86_64-linux-gnu\"\n",
        "        os.environ['FFTW_INCLUDE_PATH'] = \"/usr/include\"\n",
        "        os.environ['FFTW_LIBRARY_PATH'] = \"/usr/lib/x86_64-linux-gnu\"\n",
        "        # Step 3: Install Dedalus using pip\n",
        "        !pip3 install cython \"mpi4py<4.0\" numpy setuptools wheel\n",
        "        !CC=mpicc pip3 install --no-cache --no-build-isolation http://github.com/dedalusproject/dedalus/zipball/master/\n",
        "        !pip3 install -q ipympl\n",
        "        # Step 4: Check installation\n",
        "        print()\n",
        "        try:\n",
        "            import dedalus.public as de\n",
        "            print(\"Dedalus successfully installed :)\")\n",
        "        except:\n",
        "            print(\"Error installing Dedalus :(\")\n",
        "            raise\n",
        "    else:\n",
        "        print(\"See website for installation instructions:\")\n",
        "        print(\"https://dedalus-project.readthedocs.io/en/latest/pages/installation.html\")\n",
        "\n",
        "# Setup interactive matplotlib\n",
        "if using_google_colab:\n",
        "    from google.colab import output\n",
        "    output.enable_custom_widget_manager()"
      ]
    },
    {
      "cell_type": "markdown",
      "metadata": {
        "id": "EM4JJ1yzcfsu"
      },
      "source": [
        "At the start of each Python script, we need to import the packages that we will use.  The cell below imports the packages that will be needed here, namely numpy, matplotlib (for plotting) and dedalus. Note that we assign aliases for numpy, matplotlib, and dedlaus. Run this cell before running any of the cells below."
      ]
    },
    {
      "cell_type": "code",
      "execution_count": 3,
      "metadata": {
        "id": "eESPxoXKrs0Q"
      },
      "outputs": [],
      "source": [
        "import numpy as np\n",
        "import matplotlib.pyplot as plt\n",
        "import dedalus.public as dedalus\n",
        "import logging\n",
        "logger = logging.getLogger(__name__)"
      ]
    },
    {
      "cell_type": "markdown",
      "metadata": {
        "id": "sFBvB4cQcfsv"
      },
      "source": [
        "## 2. Dedalus basics"
      ]
    },
    {
      "cell_type": "markdown",
      "metadata": {
        "id": "pxDOKo0Acfsv"
      },
      "source": [
        "Dedalus solves PDEs using spectral methods.  Dedalus requires us to specify the spatial coordinates, the `distributor`, and the spectral bases, which are explained below."
      ]
    },
    {
      "cell_type": "markdown",
      "metadata": {
        "id": "Zn5KMufAcfsv"
      },
      "source": [
        "### Coordinates"
      ]
    },
    {
      "cell_type": "markdown",
      "metadata": {
        "id": "P9R7TskTcfsv"
      },
      "source": [
        "We can use a variety of coordinate systems in Dedalus. For example, for multi-dimensional problems, we can use Cartesian coordinates, polar coordinates, spherical coordinates, etc. Here, we will set up a 1D problem using the Dedalus `Coordinate` class. We will see other examples in future projects.\n",
        "For more details on other problem types, included distributed parallel simulations, see the official [Dedalus Tutorial 1](https://dedalus-project.readthedocs.io/en/latest/notebooks/dedalus_tutorial_1.html).\n",
        "\n",
        "Let's create a coordinate object representing our 1D coordinate, which here we will call `x`:"
      ]
    },
    {
      "cell_type": "code",
      "execution_count": 4,
      "metadata": {
        "id": "FOgm8Z58cfsv"
      },
      "outputs": [],
      "source": [
        "xcoord = dedalus.Coordinate('x')"
      ]
    },
    {
      "cell_type": "markdown",
      "metadata": {
        "id": "KMqO1JsRcfsw"
      },
      "source": [
        "### Distributors"
      ]
    },
    {
      "cell_type": "markdown",
      "metadata": {
        "id": "fyEAC0Jwcfsw"
      },
      "source": [
        "Dedalus uses MPI (Message Passing Interface) for allow parallel computation on distributed memory systems. There are various options for how to distribute the computation amongst the processes. In Dedalus this is done by an object called a `Distributor`. Here, we will run not run in paralle, but Dedalus still requies us to create a `Distributor` object. You don't need to worry about this now, we will discuss it further in later projects.\n",
        "\n",
        "The line below creates a distributor for our x coordinate for a problem with real variables."
      ]
    },
    {
      "cell_type": "code",
      "execution_count": 8,
      "metadata": {
        "id": "FRlRyC1gcfsw"
      },
      "outputs": [],
      "source": [
        "dist = dedalus.Distributor(xcoord, dtype=np.float64) # No mesh for serial / automatic parallelization"
      ]
    },
    {
      "cell_type": "markdown",
      "metadata": {
        "id": "1LK9fRWXcfsw"
      },
      "source": [
        "### Spectral basis"
      ]
    },
    {
      "cell_type": "markdown",
      "metadata": {
        "id": "KNdWEGJ8cfsw"
      },
      "source": [
        "Dedalus decomposes the PDE that we are solving using a spectral basis. Dedalus has the ability to use different basis functions for this decomposition, and this gives Dedalus remarkable flexibility. For example, `RealFourier` provides a Fouier basis (sine and cosine functions) can be used for problems that are periodic (cyclic) in physical space. The `Chebyshev` basis allows boundary conditions to be set on a finite interval. The `SphereBasis` allows us to solve problems on a sphere.\n",
        "\n",
        "The line below creates a Fourier basis for a real-valued system with a domain size of Lx=10 and with Nx=1024 gridpoints in physical space."
      ]
    },
    {
      "cell_type": "code",
      "execution_count": 6,
      "metadata": {
        "id": "rQOfjNWecfsx"
      },
      "outputs": [],
      "source": [
        "# Set some parameters\n",
        "Nx = 1024 # The number of gridpoints. Note that Fourier transforms are more efficient if this is a power of 2\n",
        "x_start=-1; x_end=1 # The starting and ending bounds on x\n",
        "\n",
        "# Construct a Fourier basis\n",
        "x_basis = dedalus.RealFourier(xcoord, size=Nx, bounds=(x_start, x_end))"
      ]
    },
    {
      "cell_type": "markdown",
      "metadata": {
        "id": "WYcpkC9Icfsx"
      },
      "source": [
        "### Grids"
      ]
    },
    {
      "cell_type": "markdown",
      "metadata": {
        "id": "_VMJ7VVUcfsx"
      },
      "source": [
        "Each basis has a corresponding grid in physical space that can be used for tasks like initializing and plotting fields.\n",
        "\n",
        "The line below creates a grid for the x coordinate.\n"
      ]
    },
    {
      "cell_type": "code",
      "execution_count": 9,
      "metadata": {
        "id": "Z364-m_9cfsx"
      },
      "outputs": [],
      "source": [
        "x = dist.local_grid(x_basis)"
      ]
    },
    {
      "cell_type": "markdown",
      "metadata": {
        "id": "53FPBHrbcfsx"
      },
      "source": [
        "### Fields"
      ]
    },
    {
      "cell_type": "markdown",
      "metadata": {
        "id": "5zKMuEercfsx"
      },
      "source": [
        "`Field` objects in Dedalus represent scalar-valued fields defined over a set of bases (or a \"domain\").\n",
        "For multidimensional problems, vector and tensor valued fields can also be constructed using the `VectorField` and `TensorField` clases.\n",
        "\n",
        "Let's construct a field called `c` (for concentration) using our 1D basis:"
      ]
    },
    {
      "cell_type": "code",
      "execution_count": 10,
      "metadata": {
        "id": "MUACj_qXcfsy"
      },
      "outputs": [],
      "source": [
        "c = dist.Field(name='c', bases=x_basis)"
      ]
    },
    {
      "cell_type": "markdown",
      "metadata": {
        "id": "W06LkkyBcfsy"
      },
      "source": [
        "Field objects have internal methods for transforming their data between grid (`'g'`) and coefficeint (`'c'`) space representations.\n",
        "The field's values can be assigned and retrieved by indexing a field with these strings.\n",
        "\n",
        "Let's set the grid-space values of our field, `c`, to be a Gaussian function of `x`. This is how we set the initial condition for the initial value problem that we will solve below."
      ]
    },
    {
      "cell_type": "code",
      "execution_count": 13,
      "metadata": {
        "id": "XOr9hPm4cfsy",
        "colab": {
          "base_uri": "https://localhost:8080/",
          "height": 311
        },
        "outputId": "da0ab27c-6725-47f4-a5e6-70c9208addda"
      },
      "outputs": [
        {
          "output_type": "display_data",
          "data": {
            "text/plain": [
              "<Figure size 600x300 with 1 Axes>"
            ],
            "image/png": "[encoded data removed]"
          },
          "metadata": {}
        }
      ],
      "source": [
        "w = 0.1 # Set the width of the initial Gaussian\n",
        "c.change_scales(1) # Set values on regular grid\n",
        "c['g'] = np.exp(-x**2/w**2)  # Initialize the dependent variable c with a Gaussian function (note ** is the exponentiation operator)\n",
        "\n",
        "plt.figure(figsize=(6, 3)) # Set the size of the figure\n",
        "plt.plot(x, c['g']) # Plot the \"grid-space\" initial conditions\n",
        "plt.xlabel('x'); plt.ylabel(\"c\"); # Set the axis labels"
      ]
    },
    {
      "cell_type": "markdown",
      "metadata": {
        "id": "3RMg7Ljmcfsy"
      },
      "source": [
        "As a bit of an aside, we can find the coefficients of the spectral representation of a field using ['c'] instead of ['g'].\n",
        "This triggers an in-place spectral (in this case Fourier) transform of the field's data.\n",
        "For the `RealFourier` basis, the coefficients are the interleaved real-valued coefficients of the cosine and (negative) sine coefficients.\n",
        "For very large problems transforming between grid and coefficient space will be time-consuming, so you will want to limit the number of times that this is done."
      ]
    },
    {
      "cell_type": "code",
      "execution_count": 16,
      "metadata": {
        "id": "X_32Ylugcfsy",
        "colab": {
          "base_uri": "https://localhost:8080/",
          "height": 307
        },
        "outputId": "073a0689-57e0-4d49-c768-2f8bd78e0086"
      },
      "outputs": [
        {
          "output_type": "display_data",
          "data": {
            "text/plain": [
              "<Figure size 600x300 with 1 Axes>"
            ],
            "image/png": "[encoded data removed]"
          },
          "metadata": {}
        }
      ],
      "source": [
        "k = np.pi * np.arange(1, Nx/2+1) / (x_end - x_start) # Create an array of wavenumbers, k(i)=i*pi/Lx\n",
        "plt.figure(figsize=(6, 3))\n",
        "plt.plot(k, c['c'][0::2], label='cosine amplitude')\n",
        "plt.plot(k, -c['c'][1::2], label='sine amplitude')\n",
        "plt.xlabel('wavenumber (k)')\n",
        "plt.ylabel(\"c['c']\")\n",
        "plt.xlim(0, 50)\n",
        "plt.legend()\n",
        "plt.tight_layout()"
      ]
    },
    {
      "cell_type": "markdown",
      "metadata": {
        "id": "smM7uP7qcfsz"
      },
      "source": [
        "## 3. Problems and Solvers"
      ]
    },
    {
      "cell_type": "markdown",
      "metadata": {
        "id": "N8UpkW4pcfsz"
      },
      "source": [
        "Dedalus uses Problem and Solver classes to specify the problem and the methods that will be used to solve it. Here, we will set up the diffusion equation and solve it using the Crank-Nicolson timestepping method.\n",
        "\n",
        "For more details on other problem types, see [Dedalus Tutorial 3](https://dedalus-project.readthedocs.io/en/latest/notebooks/dedalus_tutorial_2.html)."
      ]
    },
    {
      "cell_type": "markdown",
      "metadata": {
        "id": "4vhTd2rccfsz"
      },
      "source": [
        "### Problems"
      ]
    },
    {
      "cell_type": "markdown",
      "metadata": {
        "id": "9sxPlZjlcfsz"
      },
      "source": [
        "Dedalus standardizes the formulation of all initial value problems by taking systems of symbolically specified equations and boundary conditions specified in the following generic form:\n",
        "\n",
        "$$\\mathcal{M} \\cdot \\partial_t \\mathcal{X} + \\mathcal{L} \\cdot \\mathcal{X} = \\mathcal{F}(\\mathcal{X}, t)$$\n",
        "\n",
        "where $\\mathcal{M}$ and $\\mathcal{L}$ are matrices of linear differential operators, $\\mathcal{X}$ is a state vector of the unknown fields, $\\mathcal{F}$ is a vector of general nonlinear expressions.\n",
        "\n",
        "The left-hand side (LHS) of the equations must be first-order in temporal derivatives and linear in the problem variables.\n",
        "The right-hand side (RHS) of the equations may contain nonlinear and time-dependent terms, but no temporal derivatives.\n",
        "\n",
        "When using a mixed implicit/explicit timestepping scheme, Dedalus will apply the implicit method to the $\\mathcal{L}\\cdot \\mathcal{X}$ term and the explicit method to the $\\mathcal{F}(\\mathcal{X}, t)$ term.\n",
        "\n",
        "To create a problem object, we provide a list of the variables to be solved for. In this case, this is just `c`.\n",
        "\n",
        "Equations can then be entered as pairs of operator expressions like `(LHS, RHS)` or as strings like `\"LHS = RHS\"`.\n",
        "\n",
        "Here, let's set up the diffusion equation:\n",
        "\n",
        "$$\\partial_t c - \\kappa \\partial_x^2 c = 0$$\n",
        "\n",
        "Note that we put the term with the second derivative on the left hand side of the equation so that it will be time-stepped implicitly."
      ]
    },
    {
      "cell_type": "code",
      "execution_count": null,
      "metadata": {
        "id": "M5KIapjFcfsz"
      },
      "outputs": [],
      "source": [
        "# Parameters\n",
        "kappa = 0.001\n",
        "\n",
        "# Operators\n",
        "dx = lambda a: dedalus.Differentiate(a, xcoord) # Define the derivative (d/dx) operator\n",
        "\n",
        "# Specify the problem\n",
        "problem = dedalus.IVP([c], namespace=locals()) # Initial value problem, including all local variables\n",
        "problem.add_equation(\"dt(c) - kappa*dx(dx(c)) = 0\"); # Write out the equation to be solved\n"
      ]
    },
    {
      "cell_type": "markdown",
      "metadata": {
        "id": "Xe_8jhofcfs0"
      },
      "source": [
        "### 3.2 Solvers"
      ]
    },
    {
      "cell_type": "markdown",
      "metadata": {
        "id": "x_1EyXbOcfs0"
      },
      "source": [
        "Now, we need to specify the solver.  For IVPs, we specify a timestepping method when building the solver. Below we select the `CNAB1` timestepper which uses Crank-Nicolson for the $\\mathcal{L}\\cdot \\mathcal{X}$ term and the explicit first order Adams-Bashforth method for the right hand side term (but in this case the RHS is zero)."
      ]
    },
    {
      "cell_type": "code",
      "execution_count": null,
      "metadata": {
        "id": "afGEl_Akcfs0"
      },
      "outputs": [],
      "source": [
        "timestepper = dedalus.CNAB1\n",
        "solver = problem.build_solver(timestepper)"
      ]
    },
    {
      "cell_type": "markdown",
      "metadata": {
        "id": "51DrSE6Ycfs0"
      },
      "source": [
        "Next, we need to specify a condition for the simulation to end. This can be a set number of iterations (set using `solver.stop_iteration`), a stopping time in simulation time units (set using `solver.stop_sim_time`, or a maximum wall clock time in seconds (set using `solver.stop_wall_time`).\n",
        "\n"
      ]
    },
    {
      "cell_type": "code",
      "execution_count": null,
      "metadata": {
        "id": "uroYFHN8uLsI"
      },
      "outputs": [],
      "source": [
        "solver.stop_sim_time = 10 # Stop at 10 simulation time units"
      ]
    },
    {
      "cell_type": "markdown",
      "metadata": {
        "id": "qKNh9G_Wcfs1"
      },
      "source": [
        "IVPs are iterated using the `solver.step` method with a provided timestep.\n",
        "The logic controlling the main-loop of a Dedalus IVP simulation occurs explicitly in the simulation script.\n",
        "The `solver.proceed` property will change from `True` to `False` once any of the specified stopping criteria have been met.\n",
        "Let's timestep our problem until the halting condition is reached, copying the grid values of `u` every few iterations.\n",
        "This should take just a few seconds to run."
      ]
    },
    {
      "cell_type": "code",
      "execution_count": null,
      "metadata": {
        "id": "sK3bokIecfs1"
      },
      "outputs": [],
      "source": [
        "# Main loop\n",
        "timestep = 0.1\n",
        "c.change_scales(1)\n",
        "c_save = [np.copy(c['g'])]; t_save = [solver.sim_time]; # Save the initial condition and the initial time\n",
        "while solver.proceed:\n",
        "    solver.step(timestep)\n",
        "    if solver.iteration % 500 == 0: # Every 500 timesteps, print a message to the screen with the progress\n",
        "        logger.info('Iteration=%i, Time=%e, dt=%e' %(solver.iteration, solver.sim_time, timestep))\n",
        "    # save the values of c and t\n",
        "    c.change_scales(1)\n",
        "    c_save.append(np.copy(c['g']))\n",
        "    t_save.append(solver.sim_time)"
      ]
    },
    {
      "cell_type": "markdown",
      "metadata": {
        "id": "0jA1iYe-cfs2"
      },
      "source": [
        "Now we can make a space-time plot of the solution:"
      ]
    },
    {
      "cell_type": "code",
      "execution_count": null,
      "metadata": {
        "id": "3LQxAkY-Q-GA"
      },
      "outputs": [],
      "source": [
        "# Plot\n",
        "plt.figure(figsize=(6, 4))\n",
        "plt.pcolormesh(x.ravel(), np.array(t_save), np.array(c_save), cmap='RdBu_r', shading='gouraud', rasterized=True, clim=(-1, 1))\n",
        "plt.xlim(x_start, x_end)\n",
        "plt.ylim(0, solver.stop_sim_time)\n",
        "plt.xlabel('x')\n",
        "plt.ylabel('t')\n",
        "plt.title(f'Diffusion equation with Crank-Nicolson')\n",
        "plt.tight_layout()"
      ]
    },
    {
      "cell_type": "markdown",
      "metadata": {
        "id": "83TQO1G3cfs2"
      },
      "source": [
        "## 4. Forced diffusion equation"
      ]
    },
    {
      "cell_type": "markdown",
      "metadata": {
        "id": "IdPolkgacfs2"
      },
      "source": [
        "Dedalus is extremely flexible, which will make it very useful throughout the QCES computational projects. For example, it is relatively straightforward to change the equation that we are solving.\n",
        "\n",
        "In order to introduce functions into the equations that Dedalus solves, we need to define a new operator.  For example, the following code defines the function $sin(x)$ on our grid:"
      ]
    },
    {
      "cell_type": "code",
      "execution_count": null,
      "metadata": {
        "id": "jVb0GrOCcfs2"
      },
      "outputs": [],
      "source": [
        "# Create an operator that applies a function to the variable on a grid\n",
        "sin_x = dist.Field(bases=x_basis)\n",
        "sin_x['g'] = np.sin(x)"
      ]
    },
    {
      "cell_type": "markdown",
      "metadata": {
        "id": "tL824Xhlcfs2"
      },
      "source": [
        "The code below uses Dedlaus to solve the forced diffusion equation:\n",
        "\n",
        "$$\\partial_t c - \\kappa \\partial_x^2 c = cos(\\pi x / Lx)$$\n",
        "\n",
        "with the same Gaussian initial condition as before. This example also shows what a complete Dedalus script looks like."
      ]
    },
    {
      "cell_type": "code",
      "execution_count": null,
      "metadata": {
        "id": "2F9bwXMlcfs2"
      },
      "outputs": [],
      "source": [
        "# Load the required packages (these were loaded above and are inluded here for completeness)\n",
        "import numpy as np\n",
        "import matplotlib.pyplot as plt\n",
        "import dedalus.public as dedalus\n",
        "import logging\n",
        "logger = logging.getLogger(__name__)\n",
        "\n",
        "# This script solves the forced diffusion equation with Dedlaus\n",
        "\n",
        "# Set some parameters for the problem to be solved\n",
        "Nx = 1024 # The number of gridpoints. Note that Fourier transforms are more efficient if this is a power of 2\n",
        "x_start=-1; x_end=1 # The starting and ending bounds on x\n",
        "kappa = 0.001 # set the diffusivity\n",
        "\n",
        "# Create an x-coordinate, a corresponding basis, and a distributor\n",
        "xcoord = dedalus.Coordinate('x')\n",
        "dist = dedalus.Distributor(xcoord, dtype=np.float64) # No mesh for serial / automatic parallelization\n",
        "x_basis = dedalus.RealFourier(xcoord, size=Nx, bounds=(x_start, x_end))\n",
        "x = dist.local_grid(x_basis)\n",
        "\n",
        "# Set initial conditions\n",
        "c = dist.Field(name='c', bases=x_basis)\n",
        "w = 0.1 # Set the width of the initial Gaussian\n",
        "c.change_scales(1) # Set values on regular grid\n",
        "c['g'] = np.exp(-x**2/w**2)  # Initialize the dependent variable c with a Gaussian function (note ** is the exponentiation operator)\n",
        "\n",
        "# Operators\n",
        "dx = lambda a: dedalus.Differentiate(a, xcoord) # Define the derivative (d/dx) operator\n",
        "\n",
        "# Create an operator that applies a function to the variable on a grid\n",
        "f_x = dist.Field(bases=x_basis)\n",
        "f_x['g'] = kappa * (np.pi)**2.0 * np.cos(np.pi * x)\n",
        "\n",
        "# Specify the problem\n",
        "problem = dedalus.IVP([c], namespace=locals()) # Initial value problem, including all local variables\n",
        "problem.add_equation(\"dt(c) - kappa * dx(dx(c)) = f_x\"); # Write out the equation to be solved\n",
        "\n",
        "timestepper = dedalus.CNAB1\n",
        "solver = problem.build_solver(timestepper)\n",
        "\n",
        "solver.stop_sim_time = 10 # Stop at 10 simulation time units\n",
        "\n",
        "# Main loop\n",
        "timestep = 0.1\n",
        "c.change_scales(1)\n",
        "c_save = [np.copy(c['g'])]; t_save = [solver.sim_time]; # Save the initial condition and the initial time\n",
        "while solver.proceed:\n",
        "    solver.step(timestep)\n",
        "    if solver.iteration % 500 == 0: # Every 500 timesteps, print a message to the screen with the progress\n",
        "        logger.info('Iteration=%i, Time=%e, dt=%e' %(solver.iteration, solver.sim_time, timestep))\n",
        "    c.change_scales(1)\n",
        "    c_save.append(np.copy(c['g']))\n",
        "    t_save.append(solver.sim_time)\n",
        "\n",
        "# Plot\n",
        "plt.figure(figsize=(6, 4))\n",
        "plt.pcolormesh(x.ravel(), np.array(t_save), np.array(c_save), cmap='RdBu_r', shading='gouraud', rasterized=True)#, clim=(-1, 1))\n",
        "plt.xlim(x_start, x_end)\n",
        "plt.ylim(0, solver.stop_sim_time)\n",
        "plt.xlabel('x')\n",
        "plt.ylabel('t')\n",
        "plt.title('Forced diffusion equation')\n",
        "plt.tight_layout()"
      ]
    },
    {
      "cell_type": "markdown",
      "metadata": {
        "id": "_BK0F3OGcfs2"
      },
      "source": [
        "## 5. Student investigation\n",
        "<a id='student_investigation'></a>"
      ]
    },
    {
      "cell_type": "markdown",
      "metadata": {
        "id": "UYbNToKccfs3"
      },
      "source": [
        "### 5.1 Steady-state solution to the forced diffusion equation"
      ]
    },
    {
      "cell_type": "markdown",
      "metadata": {
        "id": "HpBb6Ns0cfs3"
      },
      "source": [
        "For the forced diffusion equation described in section 4, using dimensional analysis, estimate the time needed to reach a steady-state solution. Test this scaling, and discuss your results below. Run the code above for a sufficient time to achieve a steady-state solution. Plot $c$ at the end of this simulation, and compare it with the exact steady-state solution to the forced diffusion equation."
      ]
    },
    {
      "cell_type": "markdown",
      "metadata": {
        "id": "u0O-zzQ5cfs3"
      },
      "source": [
        "Students should comment on the timescale needed to transition from the initial condition to the forced solution, and comment on the diffusive and forcing timescales."
      ]
    },
    {
      "cell_type": "markdown",
      "metadata": {
        "id": "hT9l1sK2cfs3"
      },
      "source": [
        "### 5.2 Variable difusivity"
      ]
    },
    {
      "cell_type": "markdown",
      "metadata": {
        "id": "ahjC1ZP1cfs3"
      },
      "source": [
        "In some applications of the diffusion equation, the diffusivity varies in space. This happens, for example, in the movement of pollution in groundwater flowing through soil of variable porosity, or the mixing of tracers due to turbulence in the ocean (which we will explore in detail in Project 2).\n",
        "\n",
        "In the code cell below, write a Dedalus script that solves the following equation:\n",
        "\n",
        "$$\\partial_t c - \\partial_x(\\kappa (x) \\partial_x c) = 0$$\n",
        "\n",
        "where\n",
        "\n",
        "$$\\kappa(x)=\\kappa_0(tanh(x/0.1)+1)/2$$\n",
        "\n",
        "and $\\kappa_0=0.001$. It is fine to start by copying the code in the previous cell and changing the problem equation appropriately."
      ]
    },
    {
      "cell_type": "code",
      "execution_count": null,
      "metadata": {
        "id": "61S2Pyr7cfs3"
      },
      "outputs": [],
      "source": [
        "# Write a Dedalus script to solve the diffusion equation with a spatially-variable diffusivity\n",
        "# It is fine to copy and paste the scripts above as a starting point."
      ]
    },
    {
      "cell_type": "markdown",
      "metadata": {
        "id": "vMXVNGl6cfs3"
      },
      "source": [
        "Explore the behaviour of the solution as you vary the parameters associated with $\\kappa(x)$. Comment on your observations below (~1 paragraph)"
      ]
    },
    {
      "cell_type": "markdown",
      "metadata": {
        "id": "BM25czLWcfs3"
      },
      "source": [
        "INSERT COMMENTS HERE"
      ]
    },
    {
      "cell_type": "markdown",
      "metadata": {
        "id": "boifDg_ccfs3"
      },
      "source": [
        "## 6. Optional further investigations\n",
        "\n",
        "* Try writing a Dedalus script to solve the 2D diffusion equation as an initial value problem.  You can look ahead to the the example at the end of the Project 2 notebook for some guidance (but remove the advection term). I would suggest using a Fourier/Fourier basis for this.\n",
        "\n",
        "* Consider how you might go about discretizing a 2D diffusion equation using finite differences.  What form would the matrix M have?\n"
      ]
    }
  ],
  "metadata": {
    "colab": {
      "provenance": [],
      "include_colab_link": true
    },
    "kernelspec": {
      "display_name": "Python 3",
      "name": "python3"
    },
    "language_info": {
      "codemirror_mode": {
        "name": "ipython",
        "version": 3
      },
      "file_extension": ".py",
      "mimetype": "text/x-python",
      "name": "python",
      "nbconvert_exporter": "python",
      "pygments_lexer": "ipython3",
      "version": "3.12.2"
    }
  },
  "nbformat": 4,
  "nbformat_minor": 0
}